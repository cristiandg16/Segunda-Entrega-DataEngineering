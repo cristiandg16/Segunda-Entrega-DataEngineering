{
 "cells": [
  {
   "cell_type": "markdown",
   "id": "df5e2eaa",
   "metadata": {},
   "source": [
    "***En esta entrega, seguiremos trabajando con la API de transporte de la Ciudad de Buenos Aires. Nos enfocaremos en normalizar la información e insertarla en una tabla que disponga de clave primaria compuesta.***"
   ]
  },
  {
   "cell_type": "markdown",
   "id": "08936bdb",
   "metadata": {},
   "source": [
    "* \n",
    "    API Doc: https://api-transporte.buenosaires.gob.ar/console\n",
    "*   API Console: https://apitransporte.buenosaires.gob.ar/console/\n"
   ]
  },
  {
   "cell_type": "markdown",
   "id": "1aca1b42",
   "metadata": {},
   "source": [
    "**Librerías a utilizar**"
   ]
  },
  {
   "cell_type": "code",
   "execution_count": 1,
   "id": "81d6c87c",
   "metadata": {},
   "outputs": [],
   "source": [
    "import psycopg2 #Conexión con redshift\n",
    "import requests #Para conectar con la api\n",
    "import datetime #Manejo de fechas\n",
    "import pandas as pd\n",
    "import os\n",
    "from dotenv import load_dotenv"
   ]
  },
  {
   "cell_type": "markdown",
   "id": "6486f7ca",
   "metadata": {},
   "source": [
    "**Funcion encargada de conectar con la API**"
   ]
  },
  {
   "cell_type": "code",
   "execution_count": 2,
   "id": "ec117ffa",
   "metadata": {},
   "outputs": [],
   "source": [
    "def consulta_api_params(url,params):\n",
    "    try:\n",
    "        response = requests.get(url,params = params)\n",
    "        if response.status_code == 200:  #Corroboramos que la peticion sea exitosa\n",
    "            print(\"Respuesta de la API:\")\n",
    "            # Convertimos la respuesta a JSON\n",
    "            return response.json()\n",
    "        else:\n",
    "            print(\"Error al consultar la API. Código de estado:\", response.status_code)\n",
    "    except Exception as e:\n",
    "        print(\"Error al conectarse a la API:\", e)"
   ]
  },
  {
   "cell_type": "markdown",
   "id": "e52287cb",
   "metadata": {},
   "source": [
    "**Funcion que nos permite pasarle los diferentes parametros a la consulta.**"
   ]
  },
  {
   "cell_type": "code",
   "execution_count": 3,
   "id": "19c69bc4",
   "metadata": {},
   "outputs": [],
   "source": [
    "def get_params(route_id,agency_id,trip,client_id,client_secret):\n",
    "    params = {}\n",
    "    \n",
    "    if(route_id != \"\"):\n",
    "        params['route_id'] = route_id\n",
    "    \n",
    "    if(agency_id != \"\"):\n",
    "        params['agency_id'] = agency_id\n",
    "        \n",
    "    if(trip != \"\"):\n",
    "        params['Trip'] = trip\n",
    "        \n",
    "    if(client_id != \"\"):\n",
    "        params['client_id'] = client_id\n",
    "        \n",
    "    if(client_secret != \"\"):\n",
    "        params['client_secret'] = client_secret\n",
    "        \n",
    "    return params"
   ]
  },
  {
   "cell_type": "markdown",
   "id": "d52edea8",
   "metadata": {},
   "source": [
    "**Funcion encargada de corregir valores que por defecto vienen con valores incompatibles**"
   ]
  },
  {
   "cell_type": "code",
   "execution_count": 4,
   "id": "45979726",
   "metadata": {},
   "outputs": [],
   "source": [
    "def correcion_valores(docjson):\n",
    "    df = pd.DataFrame(docjson)\n",
    "    df['datetime_consulta'] = pd.to_datetime(df['timestamp'],unit='s') - datetime.timedelta(hours=3)\n",
    "    df['speed'] = df['speed'].round(3)\n",
    "    df['timestamp'] = df['timestamp'].astype(str)\n",
    "    df['direction'] = df['direction'].astype(str)\n",
    "    df['agency_id'] = df['agency_id'].astype(str)\n",
    "    return df"
   ]
  },
  {
   "cell_type": "markdown",
   "id": "219d78ce",
   "metadata": {},
   "source": [
    "**Seteamos las credenciales y parametros para la conexión**"
   ]
  },
  {
   "cell_type": "code",
   "execution_count": 5,
   "id": "939ab8a0",
   "metadata": {},
   "outputs": [
    {
     "name": "stdout",
     "output_type": "stream",
     "text": [
      "Respuesta de la API:\n"
     ]
    }
   ],
   "source": [
    "url_p = 'https://apitransporte.buenosaires.gob.ar/colectivos/vehiclePositionsSimple'\n",
    "load_dotenv()\n",
    "client_id = os.getenv('CLIENT_ID')\n",
    "client_secret = os.getenv('CLIENT_SECRET')\n",
    "\n",
    "params = get_params(\"\",\"\",\"\",client_id,client_secret)\n",
    "\n",
    "datos_json = consulta_api_params(url_p,params = params)\n",
    "# Crear DataFrame a partir del JSON\n",
    "df = correcion_valores(datos_json)\n",
    "\n"
   ]
  },
  {
   "cell_type": "markdown",
   "id": "54fbb695",
   "metadata": {},
   "source": [
    "**Revisamos tipos de datos del dataframe obtenido**"
   ]
  },
  {
   "cell_type": "code",
   "execution_count": 6,
   "id": "5c8c4ba6",
   "metadata": {},
   "outputs": [
    {
     "name": "stdout",
     "output_type": "stream",
     "text": [
      "route_id                     object\n",
      "latitude                    float64\n",
      "longitude                   float64\n",
      "speed                       float64\n",
      "timestamp                    object\n",
      "id                           object\n",
      "direction                    object\n",
      "agency_name                  object\n",
      "agency_id                    object\n",
      "route_short_name             object\n",
      "tip_id                       object\n",
      "trip_headsign                object\n",
      "datetime_consulta    datetime64[ns]\n",
      "dtype: object\n"
     ]
    }
   ],
   "source": [
    "print(df.dtypes)"
   ]
  },
  {
   "cell_type": "markdown",
   "id": "e76b7bb9",
   "metadata": {},
   "source": [
    "**Reordenamos el Dataframe para su posterior inserción en nuestra tabla en Redshift**"
   ]
  },
  {
   "cell_type": "code",
   "execution_count": 7,
   "id": "00bd1d7a",
   "metadata": {},
   "outputs": [
    {
     "name": "stdout",
     "output_type": "stream",
     "text": [
      "Dataframe Reordenado\n"
     ]
    },
    {
     "data": {
      "text/html": [
       "<div>\n",
       "<style scoped>\n",
       "    .dataframe tbody tr th:only-of-type {\n",
       "        vertical-align: middle;\n",
       "    }\n",
       "\n",
       "    .dataframe tbody tr th {\n",
       "        vertical-align: top;\n",
       "    }\n",
       "\n",
       "    .dataframe thead th {\n",
       "        text-align: right;\n",
       "    }\n",
       "</style>\n",
       "<table border=\"1\" class=\"dataframe\">\n",
       "  <thead>\n",
       "    <tr style=\"text-align: right;\">\n",
       "      <th></th>\n",
       "      <th>id</th>\n",
       "      <th>datetime_consulta</th>\n",
       "      <th>route_id</th>\n",
       "      <th>latitude</th>\n",
       "      <th>longitude</th>\n",
       "      <th>speed</th>\n",
       "      <th>timestamp</th>\n",
       "      <th>direction</th>\n",
       "      <th>agency_name</th>\n",
       "      <th>agency_id</th>\n",
       "      <th>route_short_name</th>\n",
       "      <th>tip_id</th>\n",
       "      <th>trip_headsign</th>\n",
       "    </tr>\n",
       "  </thead>\n",
       "  <tbody>\n",
       "    <tr>\n",
       "      <th>0</th>\n",
       "      <td>1855</td>\n",
       "      <td>2024-04-22 23:28:48</td>\n",
       "      <td>1468</td>\n",
       "      <td>-34.70196</td>\n",
       "      <td>-58.670100</td>\n",
       "      <td>0.000</td>\n",
       "      <td>1713839328</td>\n",
       "      <td>0</td>\n",
       "      <td>MICROOMNIBUS SAAVEDRA S.A.T.A.C.I.</td>\n",
       "      <td>82</td>\n",
       "      <td>153A</td>\n",
       "      <td>95462-1</td>\n",
       "      <td>a Cañuelas</td>\n",
       "    </tr>\n",
       "    <tr>\n",
       "      <th>1</th>\n",
       "      <td>1856</td>\n",
       "      <td>2024-04-22 23:28:48</td>\n",
       "      <td>1467</td>\n",
       "      <td>-34.68598</td>\n",
       "      <td>-58.662500</td>\n",
       "      <td>0.000</td>\n",
       "      <td>1713839328</td>\n",
       "      <td>1</td>\n",
       "      <td>MICROOMNIBUS SAAVEDRA S.A.T.A.C.I.</td>\n",
       "      <td>82</td>\n",
       "      <td>321A</td>\n",
       "      <td>95372-1</td>\n",
       "      <td>a Chacarita x Camarones</td>\n",
       "    </tr>\n",
       "    <tr>\n",
       "      <th>2</th>\n",
       "      <td>1867</td>\n",
       "      <td>2024-04-22 23:28:48</td>\n",
       "      <td>1466</td>\n",
       "      <td>-34.65423</td>\n",
       "      <td>-58.645900</td>\n",
       "      <td>6.389</td>\n",
       "      <td>1713839328</td>\n",
       "      <td>0</td>\n",
       "      <td>MICROOMNIBUS SAAVEDRA S.A.T.A.C.I.</td>\n",
       "      <td>82</td>\n",
       "      <td>321A</td>\n",
       "      <td>95324-1</td>\n",
       "      <td>a Autodromo x Camarones</td>\n",
       "    </tr>\n",
       "    <tr>\n",
       "      <th>3</th>\n",
       "      <td>1877</td>\n",
       "      <td>2024-04-22 23:28:48</td>\n",
       "      <td>316</td>\n",
       "      <td>-34.79680</td>\n",
       "      <td>-58.253600</td>\n",
       "      <td>5.000</td>\n",
       "      <td>1713839328</td>\n",
       "      <td>1</td>\n",
       "      <td>EL NUEVO HALCON S.A.</td>\n",
       "      <td>63</td>\n",
       "      <td>148D</td>\n",
       "      <td>24216-1</td>\n",
       "      <td>a Constitución</td>\n",
       "    </tr>\n",
       "    <tr>\n",
       "      <th>4</th>\n",
       "      <td>1885</td>\n",
       "      <td>2024-04-22 23:28:48</td>\n",
       "      <td>1648</td>\n",
       "      <td>-34.69716</td>\n",
       "      <td>-58.326435</td>\n",
       "      <td>0.000</td>\n",
       "      <td>1713839328</td>\n",
       "      <td>0</td>\n",
       "      <td>EL NUEVO HALCON S.A.</td>\n",
       "      <td>63</td>\n",
       "      <td>148I</td>\n",
       "      <td>106489-1</td>\n",
       "      <td>G x San Martí­n</td>\n",
       "    </tr>\n",
       "    <tr>\n",
       "      <th>...</th>\n",
       "      <td>...</td>\n",
       "      <td>...</td>\n",
       "      <td>...</td>\n",
       "      <td>...</td>\n",
       "      <td>...</td>\n",
       "      <td>...</td>\n",
       "      <td>...</td>\n",
       "      <td>...</td>\n",
       "      <td>...</td>\n",
       "      <td>...</td>\n",
       "      <td>...</td>\n",
       "      <td>...</td>\n",
       "      <td>...</td>\n",
       "    </tr>\n",
       "    <tr>\n",
       "      <th>2767</th>\n",
       "      <td>69649</td>\n",
       "      <td>2024-04-22 23:28:48</td>\n",
       "      <td>1420</td>\n",
       "      <td>-34.82198</td>\n",
       "      <td>-58.362705</td>\n",
       "      <td>10.833</td>\n",
       "      <td>1713839328</td>\n",
       "      <td>0</td>\n",
       "      <td>SAN VICENTE S.A. DE TRANSPORTES</td>\n",
       "      <td>68</td>\n",
       "      <td>79G</td>\n",
       "      <td>91703-1</td>\n",
       "      <td>a Munro x Viaducto Carranza</td>\n",
       "    </tr>\n",
       "    <tr>\n",
       "      <th>2768</th>\n",
       "      <td>69749</td>\n",
       "      <td>2024-04-22 23:28:46</td>\n",
       "      <td>1776</td>\n",
       "      <td>-34.72075</td>\n",
       "      <td>-58.570114</td>\n",
       "      <td>0.000</td>\n",
       "      <td>1713839326</td>\n",
       "      <td>0</td>\n",
       "      <td>LA VECINAL DE MATANZA SACI. DE MICROOMNIBUS</td>\n",
       "      <td>76</td>\n",
       "      <td>180A</td>\n",
       "      <td>115565-1</td>\n",
       "      <td>D - Av. Congreso y Bucarelli</td>\n",
       "    </tr>\n",
       "    <tr>\n",
       "      <th>2769</th>\n",
       "      <td>69757</td>\n",
       "      <td>2024-04-22 23:28:48</td>\n",
       "      <td>1068</td>\n",
       "      <td>-34.71371</td>\n",
       "      <td>-58.561800</td>\n",
       "      <td>12.222</td>\n",
       "      <td>1713839328</td>\n",
       "      <td>1</td>\n",
       "      <td>LA VECINAL DE MATANZA SACI. DE MICROOMNIBUS</td>\n",
       "      <td>76</td>\n",
       "      <td>630R2</td>\n",
       "      <td>69497-1</td>\n",
       "      <td>a Canal San Fernando</td>\n",
       "    </tr>\n",
       "    <tr>\n",
       "      <th>2770</th>\n",
       "      <td>69760</td>\n",
       "      <td>2024-04-22 23:28:48</td>\n",
       "      <td>1778</td>\n",
       "      <td>-34.69710</td>\n",
       "      <td>-58.536835</td>\n",
       "      <td>10.000</td>\n",
       "      <td>1713839328</td>\n",
       "      <td>0</td>\n",
       "      <td>LA VECINAL DE MATANZA SACI. DE MICROOMNIBUS</td>\n",
       "      <td>76</td>\n",
       "      <td>180B</td>\n",
       "      <td>115785-1</td>\n",
       "      <td>A - Florida</td>\n",
       "    </tr>\n",
       "    <tr>\n",
       "      <th>2771</th>\n",
       "      <td>69872</td>\n",
       "      <td>2024-04-22 23:28:48</td>\n",
       "      <td>1261</td>\n",
       "      <td>-34.53821</td>\n",
       "      <td>-58.707670</td>\n",
       "      <td>10.000</td>\n",
       "      <td>1713839328</td>\n",
       "      <td>1</td>\n",
       "      <td>LA PRIMERA DE GRAND BOURG S.A.</td>\n",
       "      <td>132</td>\n",
       "      <td>740H</td>\n",
       "      <td>81140-1</td>\n",
       "      <td>Ramal 14 - VUELTA</td>\n",
       "    </tr>\n",
       "  </tbody>\n",
       "</table>\n",
       "<p>2772 rows × 13 columns</p>\n",
       "</div>"
      ],
      "text/plain": [
       "         id   datetime_consulta route_id  latitude  longitude   speed  \\\n",
       "0      1855 2024-04-22 23:28:48     1468 -34.70196 -58.670100   0.000   \n",
       "1      1856 2024-04-22 23:28:48     1467 -34.68598 -58.662500   0.000   \n",
       "2      1867 2024-04-22 23:28:48     1466 -34.65423 -58.645900   6.389   \n",
       "3      1877 2024-04-22 23:28:48      316 -34.79680 -58.253600   5.000   \n",
       "4      1885 2024-04-22 23:28:48     1648 -34.69716 -58.326435   0.000   \n",
       "...     ...                 ...      ...       ...        ...     ...   \n",
       "2767  69649 2024-04-22 23:28:48     1420 -34.82198 -58.362705  10.833   \n",
       "2768  69749 2024-04-22 23:28:46     1776 -34.72075 -58.570114   0.000   \n",
       "2769  69757 2024-04-22 23:28:48     1068 -34.71371 -58.561800  12.222   \n",
       "2770  69760 2024-04-22 23:28:48     1778 -34.69710 -58.536835  10.000   \n",
       "2771  69872 2024-04-22 23:28:48     1261 -34.53821 -58.707670  10.000   \n",
       "\n",
       "       timestamp direction                                  agency_name  \\\n",
       "0     1713839328         0           MICROOMNIBUS SAAVEDRA S.A.T.A.C.I.   \n",
       "1     1713839328         1           MICROOMNIBUS SAAVEDRA S.A.T.A.C.I.   \n",
       "2     1713839328         0           MICROOMNIBUS SAAVEDRA S.A.T.A.C.I.   \n",
       "3     1713839328         1                         EL NUEVO HALCON S.A.   \n",
       "4     1713839328         0                         EL NUEVO HALCON S.A.   \n",
       "...          ...       ...                                          ...   \n",
       "2767  1713839328         0              SAN VICENTE S.A. DE TRANSPORTES   \n",
       "2768  1713839326         0  LA VECINAL DE MATANZA SACI. DE MICROOMNIBUS   \n",
       "2769  1713839328         1  LA VECINAL DE MATANZA SACI. DE MICROOMNIBUS   \n",
       "2770  1713839328         0  LA VECINAL DE MATANZA SACI. DE MICROOMNIBUS   \n",
       "2771  1713839328         1               LA PRIMERA DE GRAND BOURG S.A.   \n",
       "\n",
       "     agency_id route_short_name    tip_id                 trip_headsign  \n",
       "0           82             153A   95462-1                    a Cañuelas  \n",
       "1           82             321A   95372-1       a Chacarita x Camarones  \n",
       "2           82             321A   95324-1       a Autodromo x Camarones  \n",
       "3           63             148D   24216-1                a Constitución  \n",
       "4           63             148I  106489-1               G x San Martí­n  \n",
       "...        ...              ...       ...                           ...  \n",
       "2767        68              79G   91703-1   a Munro x Viaducto Carranza  \n",
       "2768        76             180A  115565-1  D - Av. Congreso y Bucarelli  \n",
       "2769        76            630R2   69497-1          a Canal San Fernando  \n",
       "2770        76             180B  115785-1                   A - Florida  \n",
       "2771       132             740H   81140-1             Ramal 14 - VUELTA  \n",
       "\n",
       "[2772 rows x 13 columns]"
      ]
     },
     "metadata": {},
     "output_type": "display_data"
    }
   ],
   "source": [
    "new_order = ['id','datetime_consulta','route_id','latitude','longitude','speed','timestamp','direction','agency_name','agency_id','route_short_name','tip_id','trip_headsign']\n",
    "\n",
    "df = df[new_order]\n",
    "\n",
    "print(\"Dataframe Reordenado\")\n",
    "display(df)"
   ]
  },
  {
   "cell_type": "markdown",
   "id": "08e4cfba",
   "metadata": {},
   "source": [
    "**Función encargada de cargar los datos obtenidos en la tabla de Redshift**"
   ]
  },
  {
   "cell_type": "code",
   "execution_count": 8,
   "id": "9a6d2947",
   "metadata": {},
   "outputs": [],
   "source": [
    "def cargar_df_redshift(df):\n",
    "    try:\n",
    "        conection = psycopg2.connect(\n",
    "        dbname = os.getenv('NAME_DATABASE'),\n",
    "        user = os.getenv('USER_DATABASE'),\n",
    "        password = os.getenv('PASS_DATABASE'),\n",
    "        host = os.getenv('HOST_DATABASE'),\n",
    "        port= os.getenv('PORT_DATABASE'))\n",
    "        \n",
    "        \n",
    "        datetime_insert = datetime.datetime.now().strftime(\"%Y-%m-%d %H:%M:%S\") #Campo de fecha de insercion en la tabla\n",
    "        cursor = conection.cursor()\n",
    "        \n",
    "        for i in range(df.shape[0]-1):\n",
    "            tupla_final = tuple(df.iloc[i]) + (datetime_insert,)\n",
    "            cursor.execute(\"INSERT INTO cristiangen16_coderhouse.Fact_Bus_Position(idTrack, dttmCatch,idRoute ,adLatitude,adLongitude,adSpeed,adTimestamp,adDirection,adAgencyName,idAgency,adRouteShortName,idTransport,adTripHeadsign,dttmInsert) VALUES (%s, %s, %s, %s, %s, %s, %s, %s, %s, %s, %s, %s, %s, %s)\" , tupla_final)\n",
    "        \n",
    "        conection.commit()\n",
    "        print(\"Datos cargados en Amazon Redshift con éxito.\")\n",
    "        cursor.close()\n",
    "        conection.close()\n",
    "        \n",
    "    except Exception as e:\n",
    "        print(\"Error al cargar datos en Redshift:\", e)"
   ]
  },
  {
   "cell_type": "markdown",
   "id": "0bb33565",
   "metadata": {},
   "source": [
    "**Invocamos a la función para cargar los datos**"
   ]
  },
  {
   "cell_type": "code",
   "execution_count": null,
   "id": "785f9942",
   "metadata": {},
   "outputs": [],
   "source": [
    "cargar_df_redshift(df)"
   ]
  },
  {
   "cell_type": "code",
   "execution_count": null,
   "id": "f2319a9f",
   "metadata": {},
   "outputs": [],
   "source": []
  }
 ],
 "metadata": {
  "kernelspec": {
   "display_name": "Python 3",
   "language": "python",
   "name": "python3"
  },
  "language_info": {
   "codemirror_mode": {
    "name": "ipython",
    "version": 3
   },
   "file_extension": ".py",
   "mimetype": "text/x-python",
   "name": "python",
   "nbconvert_exporter": "python",
   "pygments_lexer": "ipython3",
   "version": "3.9.12"
  }
 },
 "nbformat": 4,
 "nbformat_minor": 5
}
